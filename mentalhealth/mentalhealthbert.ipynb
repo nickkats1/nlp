{
 "cells": [
  {
   "cell_type": "code",
   "execution_count": 6,
   "id": "7636f35b-c184-492b-bb1a-54757223d400",
   "metadata": {},
   "outputs": [
    {
     "name": "stdout",
     "output_type": "stream",
     "text": [
      "cuda\n"
     ]
    },
    {
     "data": {
      "text/html": [
       "<div>\n",
       "<style scoped>\n",
       "    .dataframe tbody tr th:only-of-type {\n",
       "        vertical-align: middle;\n",
       "    }\n",
       "\n",
       "    .dataframe tbody tr th {\n",
       "        vertical-align: top;\n",
       "    }\n",
       "\n",
       "    .dataframe thead th {\n",
       "        text-align: right;\n",
       "    }\n",
       "</style>\n",
       "<table border=\"1\" class=\"dataframe\">\n",
       "  <thead>\n",
       "    <tr style=\"text-align: right;\">\n",
       "      <th></th>\n",
       "      <th>Unnamed: 0</th>\n",
       "      <th>statement</th>\n",
       "      <th>status</th>\n",
       "    </tr>\n",
       "  </thead>\n",
       "  <tbody>\n",
       "    <tr>\n",
       "      <th>0</th>\n",
       "      <td>0</td>\n",
       "      <td>oh my gosh</td>\n",
       "      <td>Anxiety</td>\n",
       "    </tr>\n",
       "    <tr>\n",
       "      <th>1</th>\n",
       "      <td>1</td>\n",
       "      <td>trouble sleeping, confused mind, restless hear...</td>\n",
       "      <td>Anxiety</td>\n",
       "    </tr>\n",
       "    <tr>\n",
       "      <th>2</th>\n",
       "      <td>2</td>\n",
       "      <td>All wrong, back off dear, forward doubt. Stay ...</td>\n",
       "      <td>Anxiety</td>\n",
       "    </tr>\n",
       "    <tr>\n",
       "      <th>3</th>\n",
       "      <td>3</td>\n",
       "      <td>I've shifted my focus to something else but I'...</td>\n",
       "      <td>Anxiety</td>\n",
       "    </tr>\n",
       "    <tr>\n",
       "      <th>4</th>\n",
       "      <td>4</td>\n",
       "      <td>I'm restless and restless, it's been a month n...</td>\n",
       "      <td>Anxiety</td>\n",
       "    </tr>\n",
       "    <tr>\n",
       "      <th>5</th>\n",
       "      <td>5</td>\n",
       "      <td>every break, you must be nervous, like somethi...</td>\n",
       "      <td>Anxiety</td>\n",
       "    </tr>\n",
       "    <tr>\n",
       "      <th>6</th>\n",
       "      <td>6</td>\n",
       "      <td>I feel scared, anxious, what can I do? And may...</td>\n",
       "      <td>Anxiety</td>\n",
       "    </tr>\n",
       "    <tr>\n",
       "      <th>7</th>\n",
       "      <td>7</td>\n",
       "      <td>Have you ever felt nervous but didn't know why?</td>\n",
       "      <td>Anxiety</td>\n",
       "    </tr>\n",
       "    <tr>\n",
       "      <th>8</th>\n",
       "      <td>8</td>\n",
       "      <td>I haven't slept well for 2 days, it's like I'm...</td>\n",
       "      <td>Anxiety</td>\n",
       "    </tr>\n",
       "    <tr>\n",
       "      <th>9</th>\n",
       "      <td>9</td>\n",
       "      <td>I'm really worried, I want to cry.</td>\n",
       "      <td>Anxiety</td>\n",
       "    </tr>\n",
       "  </tbody>\n",
       "</table>\n",
       "</div>"
      ],
      "text/plain": [
       "   Unnamed: 0                                          statement   status\n",
       "0           0                                         oh my gosh  Anxiety\n",
       "1           1  trouble sleeping, confused mind, restless hear...  Anxiety\n",
       "2           2  All wrong, back off dear, forward doubt. Stay ...  Anxiety\n",
       "3           3  I've shifted my focus to something else but I'...  Anxiety\n",
       "4           4  I'm restless and restless, it's been a month n...  Anxiety\n",
       "5           5  every break, you must be nervous, like somethi...  Anxiety\n",
       "6           6  I feel scared, anxious, what can I do? And may...  Anxiety\n",
       "7           7    Have you ever felt nervous but didn't know why?  Anxiety\n",
       "8           8  I haven't slept well for 2 days, it's like I'm...  Anxiety\n",
       "9           9                 I'm really worried, I want to cry.  Anxiety"
      ]
     },
     "execution_count": 6,
     "metadata": {},
     "output_type": "execute_result"
    }
   ],
   "source": [
    "from transformers import BertModel,BertTokenizer\n",
    "import torch\n",
    "import torch.nn as nn\n",
    "import matplotlib.pyplot as plt\n",
    "import seaborn as sns\n",
    "import re\n",
    "import demoji\n",
    "import string\n",
    "import pandas as pd\n",
    "import demoji\n",
    "import tqdm.notebook as tq\n",
    "import numpy as np\n",
    "from sklearn.metrics import confusion_matrix,classification_report,f1_score\n",
    "\n",
    "device = (\"cuda\" if torch.cuda.is_available() else \"cpu\")\n",
    "print(device)\n",
    "df = pd.read_csv(\"C:/mhBert/Combined Data.csv\",delimiter=',',nrows=10000)\n",
    "df.head(10)\n"
   ]
  },
  {
   "cell_type": "code",
   "execution_count": 7,
   "id": "4438150a-b5be-4980-9d3a-32671404953b",
   "metadata": {},
   "outputs": [
    {
     "data": {
      "image/png": "[encoded data removed]",
      "text/plain": [
       "<Figure size 1000x600 with 1 Axes>"
      ]
     },
     "metadata": {},
     "output_type": "display_data"
    }
   ],
   "source": [
    "\n",
    "df.drop(\"Unnamed: 0\",inplace=True,axis=1)\n",
    "df.isnull().sum()\n",
    "df['statement'] = df['statement'].fillna(\"\")\n",
    "\n",
    "df.duplicated().sum()\n",
    "df.drop_duplicates(inplace=True)\n",
    "\n",
    "\n",
    "plt.figure(figsize=(10,6))\n",
    "df['status'].value_counts().plot(kind='bar',rot=0)\n",
    "plt.show()"
   ]
  },
  {
   "cell_type": "code",
   "execution_count": 8,
   "id": "dda27852-5618-445a-8430-413f509c3772",
   "metadata": {},
   "outputs": [
    {
     "name": "stdout",
     "output_type": "stream",
     "text": [
      "['Normal', 'Depression', 'Suicidal', 'Anxiety']\n"
     ]
    },
    {
     "data": {
      "text/html": [
       "<div>\n",
       "<style scoped>\n",
       "    .dataframe tbody tr th:only-of-type {\n",
       "        vertical-align: middle;\n",
       "    }\n",
       "\n",
       "    .dataframe tbody tr th {\n",
       "        vertical-align: top;\n",
       "    }\n",
       "\n",
       "    .dataframe thead th {\n",
       "        text-align: right;\n",
       "    }\n",
       "</style>\n",
       "<table border=\"1\" class=\"dataframe\">\n",
       "  <thead>\n",
       "    <tr style=\"text-align: right;\">\n",
       "      <th></th>\n",
       "      <th>Normal</th>\n",
       "      <th>Depression</th>\n",
       "      <th>Suicidal</th>\n",
       "      <th>Anxiety</th>\n",
       "    </tr>\n",
       "  </thead>\n",
       "  <tbody>\n",
       "    <tr>\n",
       "      <th>0</th>\n",
       "      <td>0</td>\n",
       "      <td>0</td>\n",
       "      <td>0</td>\n",
       "      <td>1</td>\n",
       "    </tr>\n",
       "    <tr>\n",
       "      <th>1</th>\n",
       "      <td>0</td>\n",
       "      <td>0</td>\n",
       "      <td>0</td>\n",
       "      <td>1</td>\n",
       "    </tr>\n",
       "    <tr>\n",
       "      <th>2</th>\n",
       "      <td>0</td>\n",
       "      <td>0</td>\n",
       "      <td>0</td>\n",
       "      <td>1</td>\n",
       "    </tr>\n",
       "    <tr>\n",
       "      <th>3</th>\n",
       "      <td>0</td>\n",
       "      <td>0</td>\n",
       "      <td>0</td>\n",
       "      <td>1</td>\n",
       "    </tr>\n",
       "    <tr>\n",
       "      <th>4</th>\n",
       "      <td>0</td>\n",
       "      <td>0</td>\n",
       "      <td>0</td>\n",
       "      <td>1</td>\n",
       "    </tr>\n",
       "    <tr>\n",
       "      <th>...</th>\n",
       "      <td>...</td>\n",
       "      <td>...</td>\n",
       "      <td>...</td>\n",
       "      <td>...</td>\n",
       "    </tr>\n",
       "    <tr>\n",
       "      <th>9995</th>\n",
       "      <td>0</td>\n",
       "      <td>0</td>\n",
       "      <td>1</td>\n",
       "      <td>0</td>\n",
       "    </tr>\n",
       "    <tr>\n",
       "      <th>9996</th>\n",
       "      <td>0</td>\n",
       "      <td>1</td>\n",
       "      <td>0</td>\n",
       "      <td>0</td>\n",
       "    </tr>\n",
       "    <tr>\n",
       "      <th>9997</th>\n",
       "      <td>0</td>\n",
       "      <td>0</td>\n",
       "      <td>1</td>\n",
       "      <td>0</td>\n",
       "    </tr>\n",
       "    <tr>\n",
       "      <th>9998</th>\n",
       "      <td>0</td>\n",
       "      <td>1</td>\n",
       "      <td>0</td>\n",
       "      <td>0</td>\n",
       "    </tr>\n",
       "    <tr>\n",
       "      <th>9999</th>\n",
       "      <td>0</td>\n",
       "      <td>0</td>\n",
       "      <td>1</td>\n",
       "      <td>0</td>\n",
       "    </tr>\n",
       "  </tbody>\n",
       "</table>\n",
       "<p>9915 rows × 4 columns</p>\n",
       "</div>"
      ],
      "text/plain": [
       "      Normal  Depression  Suicidal  Anxiety\n",
       "0          0           0         0        1\n",
       "1          0           0         0        1\n",
       "2          0           0         0        1\n",
       "3          0           0         0        1\n",
       "4          0           0         0        1\n",
       "...      ...         ...       ...      ...\n",
       "9995       0           0         1        0\n",
       "9996       0           1         0        0\n",
       "9997       0           0         1        0\n",
       "9998       0           1         0        0\n",
       "9999       0           0         1        0\n",
       "\n",
       "[9915 rows x 4 columns]"
      ]
     },
     "execution_count": 8,
     "metadata": {},
     "output_type": "execute_result"
    }
   ],
   "source": [
    "\n",
    "\n",
    "df['Normal'] = (df['status'] == \"Normal\").astype(int)\n",
    "df['Depression'] = (df['status'] == 'Depression').astype(int)\n",
    "df['Suicidal'] = (df['status'] == 'Suicidal').astype(int)\n",
    "df['Anxiety'] = (df['status'] == 'Anxiety').astype(int)\n",
    "\n",
    "\n",
    "\n",
    "\n",
    "df.drop(\"status\",inplace=True,axis=1)\n",
    "\n",
    "TARGET_LIST = list(df.columns[1:])\n",
    "print(TARGET_LIST)\n",
    "df[TARGET_LIST]"
   ]
  },
  {
   "cell_type": "code",
   "execution_count": 9,
   "id": "956e9de8-f92f-4db3-8664-850f5f4730e7",
   "metadata": {},
   "outputs": [
    {
     "data": {
      "text/plain": [
       "0                                           oh my gosh\n",
       "1    trouble sleeping confused mind restless heart ...\n",
       "2    all wrong back off dear forward doubt stay in ...\n",
       "3    ive shifted my focus to something else but im ...\n",
       "4    im restless and restless its been a month now ...\n",
       "5    every break you must be nervous like something...\n",
       "6    i feel scared anxious what can i do and may my...\n",
       "7        have you ever felt nervous but didnt know why\n",
       "8    i havent slept well for 2 days its like im res...\n",
       "9                      im really worried i want to cry\n",
       "Name: statement, dtype: object"
      ]
     },
     "execution_count": 9,
     "metadata": {},
     "output_type": "execute_result"
    }
   ],
   "source": [
    "\n",
    "def clean_text(text):\n",
    "    \n",
    "    text = str(text).lower()\n",
    "\n",
    "    text = re.sub(r'<.*?>', '',text)\n",
    "    \n",
    "    text = re.sub('https?://\\S+|www\\.\\S+', '', text)\n",
    "    \n",
    "    text = demoji.replace(text,'')\n",
    "    \n",
    "    text = re.sub('[%s]' % re.escape(string.punctuation), '', text)\n",
    "\n",
    "    \n",
    "    return text\n",
    "\n",
    "\n",
    "\n",
    "df['statement'] = df['statement'].apply(clean_text)\n",
    "df['statement'].head(10)\n"
   ]
  },
  {
   "cell_type": "code",
   "execution_count": 10,
   "id": "73a19de9-a037-4632-95f2-5e90858178ab",
   "metadata": {},
   "outputs": [
    {
     "name": "stderr",
     "output_type": "stream",
     "text": [
      "Truncation was not explicitly activated but `max_length` is provided a specific value, please use `truncation=True` to explicitly truncate examples to max length. Defaulting to 'longest_first' truncation strategy. If you encode pairs of sequences (GLUE-style) with the tokenizer you can select this strategy more precisely by providing a specific strategy to `truncation`.\n",
      "C:\\Users\\katsa\\AppData\\Local\\Temp\\ipykernel_9864\\1529011649.py:12: UserWarning: \n",
      "\n",
      "`distplot` is a deprecated function and will be removed in seaborn v0.14.0.\n",
      "\n",
      "Please adapt your code to use either `displot` (a figure-level function with\n",
      "similar flexibility) or `histplot` (an axes-level function for histograms).\n",
      "\n",
      "For a guide to updating your code to use the new functions, please see\n",
      "https://gist.github.com/mwaskom/de44147ed2974457ad6372750bbe5751\n",
      "\n",
      "  sns.distplot(sample_tokens)\n"
     ]
    },
    {
     "data": {
      "image/png": "[encoded data removed]",
      "text/plain": [
       "<Figure size 1000x600 with 1 Axes>"
      ]
     },
     "metadata": {},
     "output_type": "display_data"
    }
   ],
   "source": [
    "\n",
    "\n",
    "MODEL_NAME = 'bert-base-cased'\n",
    "tokenizer = BertTokenizer.from_pretrained(MODEL_NAME,do_lower_case=True)\n",
    "\n",
    "\n",
    "sample_tokens = []\n",
    "for txt in df['statement']:\n",
    "    tokens = tokenizer.encode(txt, max_length=512)\n",
    "    sample_tokens.append(len(tokens))\n",
    "\n",
    "\n",
    "plt.figure(figsize=(10,6))\n",
    "sns.distplot(sample_tokens)\n",
    "plt.show()"
   ]
  },
  {
   "cell_type": "code",
   "execution_count": 11,
   "id": "08510828-dcd2-4403-a073-3142d674aae1",
   "metadata": {},
   "outputs": [
    {
     "data": {
      "text/plain": [
       "dict_keys(['statement', 'input_ids', 'attention_mask', 'token_type_ids', 'targets'])"
      ]
     },
     "execution_count": 11,
     "metadata": {},
     "output_type": "execute_result"
    }
   ],
   "source": [
    "\n",
    "MAX_LEN = 200\n",
    "\n",
    "\n",
    "class Custom_Dataset(torch.utils.data.Dataset):\n",
    "    def __init__(self,df,max_len,tokenizer,TARGET_LIST):\n",
    "        self.df = df\n",
    "        self.statement = list(df['statement'])\n",
    "        self.targets = self.df[TARGET_LIST].values\n",
    "        self.max_len = max_len\n",
    "        self.tokenizer = tokenizer\n",
    "        \n",
    "    def __len__(self):\n",
    "        return len(self.statement)\n",
    "    \n",
    "    def __getitem__(self,idx):\n",
    "        statement = str(self.statement[idx])\n",
    "        statement = \" \".join(statement.split())\n",
    "        \n",
    "        encoder = self.tokenizer.encode_plus(\n",
    "            statement,\n",
    "            None,\n",
    "            max_length=self.max_len,\n",
    "            padding=\"max_length\",\n",
    "            truncation=True,\n",
    "            return_token_type_ids=True,\n",
    "            return_attention_mask=True,\n",
    "            add_special_tokens=True,\n",
    "            return_tensors='pt',\n",
    "            )\n",
    "        \n",
    "        return {\n",
    "            \"statement\":statement,\n",
    "            \"input_ids\":encoder['input_ids'].flatten(),\n",
    "            \"attention_mask\":encoder['attention_mask'].flatten(),\n",
    "            \"token_type_ids\":encoder['token_type_ids'].flatten(),\n",
    "            \"targets\":torch.FloatTensor(self.targets[idx])\n",
    "            }\n",
    "\n",
    "\n",
    "from sklearn.model_selection import train_test_split\n",
    "df_train,df_test = train_test_split(df,test_size=.20,random_state=42)\n",
    "df_val,df_test = train_test_split(df_test, test_size=.50,random_state=42)\n",
    "\n",
    "\n",
    "\n",
    "\n",
    "\n",
    "\n",
    "\n",
    "train_dataset = Custom_Dataset(df_train,MAX_LEN,tokenizer,TARGET_LIST)\n",
    "test_dataset = Custom_Dataset(df_test, MAX_LEN, tokenizer, TARGET_LIST)\n",
    "val_dataset = Custom_Dataset(df_test, MAX_LEN, tokenizer, TARGET_LIST)\n",
    "\n",
    "\n",
    "BATCH_SIZE = 4\n",
    "\n",
    "\n",
    "train_dataloader = torch.utils.data.DataLoader(train_dataset,batch_size=BATCH_SIZE,num_workers=0)\n",
    "test_dataloader = torch.utils.data.DataLoader(test_dataset,batch_size=BATCH_SIZE,num_workers=0)\n",
    "val_dataloader = torch.utils.data.DataLoader(val_dataset,batch_size=BATCH_SIZE,num_workers=0)\n",
    "\n",
    "\n",
    "data= next(iter(train_dataloader))\n",
    "data.keys()"
   ]
  },
  {
   "cell_type": "code",
   "execution_count": 12,
   "id": "959fdc1e-0842-4ef6-9963-044e33e93c25",
   "metadata": {},
   "outputs": [
    {
     "data": {
      "text/plain": [
       "BertClassifier(\n",
       "  (bert_model): BertModel(\n",
       "    (embeddings): BertEmbeddings(\n",
       "      (word_embeddings): Embedding(28996, 768, padding_idx=0)\n",
       "      (position_embeddings): Embedding(512, 768)\n",
       "      (token_type_embeddings): Embedding(2, 768)\n",
       "      (LayerNorm): LayerNorm((768,), eps=1e-12, elementwise_affine=True)\n",
       "      (dropout): Dropout(p=0.1, inplace=False)\n",
       "    )\n",
       "    (encoder): BertEncoder(\n",
       "      (layer): ModuleList(\n",
       "        (0-11): 12 x BertLayer(\n",
       "          (attention): BertAttention(\n",
       "            (self): BertSdpaSelfAttention(\n",
       "              (query): Linear(in_features=768, out_features=768, bias=True)\n",
       "              (key): Linear(in_features=768, out_features=768, bias=True)\n",
       "              (value): Linear(in_features=768, out_features=768, bias=True)\n",
       "              (dropout): Dropout(p=0.1, inplace=False)\n",
       "            )\n",
       "            (output): BertSelfOutput(\n",
       "              (dense): Linear(in_features=768, out_features=768, bias=True)\n",
       "              (LayerNorm): LayerNorm((768,), eps=1e-12, elementwise_affine=True)\n",
       "              (dropout): Dropout(p=0.1, inplace=False)\n",
       "            )\n",
       "          )\n",
       "          (intermediate): BertIntermediate(\n",
       "            (dense): Linear(in_features=768, out_features=3072, bias=True)\n",
       "            (intermediate_act_fn): GELUActivation()\n",
       "          )\n",
       "          (output): BertOutput(\n",
       "            (dense): Linear(in_features=3072, out_features=768, bias=True)\n",
       "            (LayerNorm): LayerNorm((768,), eps=1e-12, elementwise_affine=True)\n",
       "            (dropout): Dropout(p=0.1, inplace=False)\n",
       "          )\n",
       "        )\n",
       "      )\n",
       "    )\n",
       "    (pooler): BertPooler(\n",
       "      (dense): Linear(in_features=768, out_features=768, bias=True)\n",
       "      (activation): Tanh()\n",
       "    )\n",
       "  )\n",
       "  (dropout): Dropout(p=0.1, inplace=False)\n",
       "  (linear): Linear(in_features=768, out_features=4, bias=True)\n",
       ")"
      ]
     },
     "execution_count": 12,
     "metadata": {},
     "output_type": "execute_result"
    }
   ],
   "source": [
    "\n",
    "class BertClassifier(nn.Module):\n",
    "    def __init__(self):\n",
    "        super(BertClassifier, self).__init__()\n",
    "        self.bert_model = BertModel.from_pretrained(MODEL_NAME, return_dict=True)\n",
    "        self.dropout = torch.nn.Dropout(0.1)\n",
    "        self.linear = torch.nn.Linear(768, 4)\n",
    "\n",
    "    def forward(self, input_ids, attention_mask, token_type_ids):\n",
    "        output = self.bert_model(\n",
    "            input_ids=input_ids, \n",
    "            attention_mask=attention_mask, \n",
    "            token_type_ids=token_type_ids\n",
    "        )\n",
    "        output_dropout = self.dropout(output.pooler_output)\n",
    "        output = self.linear(output_dropout)\n",
    "        return output\n",
    "\n",
    "\n",
    "    \n",
    "\n",
    "model = BertClassifier()\n",
    "model.to(device)"
   ]
  },
  {
   "cell_type": "code",
   "execution_count": 13,
   "id": "f1242c38-52fd-475d-bf6b-68b6d5ddcdc0",
   "metadata": {},
   "outputs": [
    {
     "name": "stdout",
     "output_type": "stream",
     "text": [
      "Epoch 1/4\n"
     ]
    },
    {
     "data": {
      "application/vnd.jupyter.widget-view+json": {
       "model_id": "82adf0e53e5449ff92372ec703a031b6",
       "version_major": 2,
       "version_minor": 0
      },
      "text/plain": [
       "  0%|          | 0/1983 [00:00<?, ?it/s]"
      ]
     },
     "metadata": {},
     "output_type": "display_data"
    },
    {
     "name": "stdout",
     "output_type": "stream",
     "text": [
      "train_loss=18.79, val_loss=12.36 train_acc=82.79, val_acc=91.03\n",
      "Epoch 2/4\n"
     ]
    },
    {
     "data": {
      "application/vnd.jupyter.widget-view+json": {
       "model_id": "cfe707bc55af4e89946e65f36f392522",
       "version_major": 2,
       "version_minor": 0
      },
      "text/plain": [
       "  0%|          | 0/1983 [00:00<?, ?it/s]"
      ]
     },
     "metadata": {},
     "output_type": "display_data"
    },
    {
     "name": "stdout",
     "output_type": "stream",
     "text": [
      "train_loss=11.96, val_loss=13.46 train_acc=90.91, val_acc=90.93\n",
      "Epoch 3/4\n"
     ]
    },
    {
     "data": {
      "application/vnd.jupyter.widget-view+json": {
       "model_id": "85f066623a714630addd5e9a036244fc",
       "version_major": 2,
       "version_minor": 0
      },
      "text/plain": [
       "  0%|          | 0/1983 [00:00<?, ?it/s]"
      ]
     },
     "metadata": {},
     "output_type": "display_data"
    },
    {
     "name": "stdout",
     "output_type": "stream",
     "text": [
      "train_loss=9.04, val_loss=16.28 train_acc=94.10, val_acc=90.42\n",
      "Epoch 4/4\n"
     ]
    },
    {
     "data": {
      "application/vnd.jupyter.widget-view+json": {
       "model_id": "fb69c56f46be4af6a960ba9331aa2569",
       "version_major": 2,
       "version_minor": 0
      },
      "text/plain": [
       "  0%|          | 0/1983 [00:00<?, ?it/s]"
      ]
     },
     "metadata": {},
     "output_type": "display_data"
    },
    {
     "name": "stdout",
     "output_type": "stream",
     "text": [
      "train_loss=6.43, val_loss=15.58 train_acc=96.31, val_acc=92.74\n",
      "testing accuracy: 92.74%\n",
      "testing loss: 15.58\n"
     ]
    }
   ],
   "source": [
    "\n",
    "def loss_fn(outputs,targets):\n",
    "    return nn.BCEWithLogitsLoss()(outputs,targets)\n",
    "\n",
    "\n",
    "\n",
    "optimizer = torch.optim.AdamW(model.parameters(),lr=1e-5)\n",
    "\n",
    "EPOCHS = 4\n",
    "\n",
    "\n",
    "def train_model(train_dataloader, model, optimizer):\n",
    "    model.train()\n",
    "    losses = []\n",
    "    correct_predictions = 0\n",
    "    num_samples = 0\n",
    "    model.train()\n",
    "    loop = tq.tqdm(enumerate(train_dataloader), total=len(train_dataloader), leave=True)\n",
    "    for batch_idx, data in loop:\n",
    "        input_ids = data['input_ids'].to(device, dtype = torch.long)\n",
    "        attention_mask = data['attention_mask'].to(device, dtype = torch.long)\n",
    "        token_type_ids = data['token_type_ids'].to(device, dtype = torch.long)\n",
    "        targets = data['targets'].to(device, dtype = torch.float)\n",
    "\n",
    "\n",
    "        outputs = model(input_ids, attention_mask,token_type_ids)\n",
    "        loss = loss_fn(outputs, targets)\n",
    "        losses.append(loss.item())\n",
    "        _, preds = torch.max(outputs, dim=1)\n",
    "        _, targ = torch.max(targets, dim=1)\n",
    "        num_samples += len(targ)\n",
    "        correct_predictions += torch.sum(preds == targ)\n",
    "\n",
    "        optimizer.zero_grad()\n",
    "        loss.backward()\n",
    "        nn.utils.clip_grad_norm_(model.parameters(), max_norm=1.0)\n",
    "        optimizer.step()\n",
    "\n",
    "\n",
    "    return model, float(correct_predictions)/num_samples, np.mean(losses)\n",
    "\n",
    "\n",
    "\n",
    "def eval_model(val_dataloader, model, optimizer):\n",
    "    model.eval()\n",
    "    losses = []\n",
    "    correct_predictions = 0\n",
    "    num_samples = 0\n",
    "    model.eval()\n",
    "\n",
    "    with torch.no_grad():\n",
    "        for batch_idx, data in enumerate(val_dataloader, 0):\n",
    "            input_ids = data['input_ids'].to(device, dtype = torch.long)\n",
    "            attention_mask = data['attention_mask'].to(device, dtype = torch.long)\n",
    "            token_type_ids = data['token_type_ids'].to(device, dtype = torch.long)\n",
    "            targets = data['targets'].to(device, dtype = torch.float)\n",
    "            outputs = model(input_ids, attention_mask, token_type_ids)\n",
    "\n",
    "            loss = loss_fn(outputs, targets)\n",
    "            losses.append(loss.item())\n",
    "\n",
    "\n",
    "            _, preds = torch.max(outputs, dim=1)\n",
    "            _, targ = torch.max(targets, dim=1)\n",
    "            num_samples += len(targ)\n",
    "            correct_predictions += torch.sum(preds == targ)\n",
    "\n",
    "    return float(correct_predictions)/num_samples, np.mean(losses)\n",
    "\n",
    "\n",
    "\n",
    "\n",
    "\n",
    "\n",
    "for epoch in range(1, EPOCHS+1):\n",
    "    print(f'Epoch {epoch}/{EPOCHS}')\n",
    "    model, train_acc, train_loss = train_model(train_dataloader, model, optimizer)\n",
    "    val_acc, val_loss = eval_model(val_dataloader, model, optimizer)\n",
    "\n",
    "    print(f'train_loss={train_loss*100:.2f}, val_loss={val_loss*100:.2f} train_acc={train_acc*100:.2f}, val_acc={val_acc*100:.2f}')\n",
    "\n",
    "\n",
    "\n",
    "\n",
    "test_acc,test_loss = eval_model(test_dataloader, model, optimizer)\n",
    "print(f'testing accuracy: {test_acc*100:.2f}%')\n",
    "print(f'testing loss: {test_loss*100:.2f}')\n"
   ]
  },
  {
   "cell_type": "code",
   "execution_count": 14,
   "id": "44693fc0-4f4e-47d4-9ed0-7eca051aae11",
   "metadata": {},
   "outputs": [
    {
     "name": "stdout",
     "output_type": "stream",
     "text": [
      "              precision    recall  f1-score   support\n",
      "\n",
      "      Normal       0.99      0.99      0.99       639\n",
      "  Depression       0.71      0.82      0.76       122\n",
      "    Suicidal       0.82      0.75      0.78       160\n",
      "     Anxiety       0.97      0.97      0.97        71\n",
      "\n",
      "    accuracy                           0.93       992\n",
      "   macro avg       0.88      0.88      0.88       992\n",
      "weighted avg       0.93      0.93      0.93       992\n",
      "\n",
      "0.9274193548387096\n"
     ]
    }
   ],
   "source": [
    "\n",
    "\n",
    "def get_predictions(model, dataloader):\n",
    "    model.eval()\n",
    "    \n",
    "    statements = []\n",
    "    predictions = []\n",
    "    prediction_probs = []\n",
    "    target_values = []\n",
    "\n",
    "    with torch.no_grad():\n",
    "      for data in dataloader:\n",
    "        statement = data[\"statement\"]\n",
    "        input_ids = data[\"input_ids\"].to(device, dtype = torch.long)\n",
    "        attention_mask = data[\"attention_mask\"].to(device, dtype = torch.long)\n",
    "        token_type_ids = data['token_type_ids'].to(device, dtype = torch.long)\n",
    "        targets = data[\"targets\"].to(device, dtype = torch.float)\n",
    "\n",
    "        outputs = model(input_ids, attention_mask, token_type_ids)\n",
    "        _, preds = torch.max(outputs, dim=1)\n",
    "        _, targ = torch.max(targets, dim=1)\n",
    "\n",
    "        statements.extend(statement)\n",
    "        predictions.extend(preds)\n",
    "        prediction_probs.extend(outputs)\n",
    "        target_values.extend(targ)\n",
    "        \n",
    "    predictions = torch.stack(predictions).cpu()\n",
    "    prediction_probs = torch.stack(prediction_probs).cpu()\n",
    "    target_values = torch.stack(target_values).cpu()\n",
    "    \n",
    "    return statements, predictions, prediction_probs, target_values\n",
    "\n",
    "\n",
    "\n",
    "\n",
    "\n",
    "statements, predictions, prediction_probs, target_values = get_predictions(model, test_dataloader)\n",
    "\n",
    "\n",
    "print(classification_report(predictions,target_values, target_names=TARGET_LIST))\n",
    "\n",
    "print(f1_score(predictions, target_values,average='micro'))"
   ]
  },
  {
   "cell_type": "code",
   "execution_count": 15,
   "id": "1061f4be-82a5-42c5-bf62-e2f4195ea981",
   "metadata": {},
   "outputs": [
    {
     "data": {
      "image/png": "[encoded data removed]",
      "text/plain": [
       "<Figure size 640x480 with 2 Axes>"
      ]
     },
     "metadata": {},
     "output_type": "display_data"
    }
   ],
   "source": [
    "def plt_confusion_matrix(predictions,target_values):\n",
    "    cm = confusion_matrix(predictions,target_values)\n",
    "    sns.heatmap(cm, fmt='d',annot=True,cmap=\"Blues\",xticklabels=[\"Normal\",\"Depression\",\"Suicidal\",\"Anxiety\"],yticklabels=[\"Normal\",\"Depression\",\"Suicidal\",\"Anxiety\"])\n",
    "\n",
    "\n",
    "\n",
    "plt_confusion_matrix(predictions, target_values)\n",
    "\n",
    "\n"
   ]
  },
  {
   "cell_type": "code",
   "execution_count": null,
   "id": "241ab282-f76a-44ad-a854-92adcdf4b463",
   "metadata": {},
   "outputs": [],
   "source": []
  }
 ],
 "metadata": {
  "kernelspec": {
   "display_name": "Python 3 (ipykernel)",
   "language": "python",
   "name": "python3"
  },
  "language_info": {
   "codemirror_mode": {
    "name": "ipython",
    "version": 3
   },
   "file_extension": ".py",
   "mimetype": "text/x-python",
   "name": "python",
   "nbconvert_exporter": "python",
   "pygments_lexer": "ipython3",
   "version": "3.11.11"
  }
 },
 "nbformat": 4,
 "nbformat_minor": 5
}
