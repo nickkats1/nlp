{
 "cells": [
  {
   "cell_type": "code",
   "execution_count": 2,
   "id": "6ed93b02-6873-44c1-8e5f-39036ac7972b",
   "metadata": {},
   "outputs": [
    {
     "name": "stdout",
     "output_type": "stream",
     "text": [
      "cuda\n"
     ]
    },
    {
     "data": {
      "text/html": [
       "<div>\n",
       "<style scoped>\n",
       "    .dataframe tbody tr th:only-of-type {\n",
       "        vertical-align: middle;\n",
       "    }\n",
       "\n",
       "    .dataframe tbody tr th {\n",
       "        vertical-align: top;\n",
       "    }\n",
       "\n",
       "    .dataframe thead th {\n",
       "        text-align: right;\n",
       "    }\n",
       "</style>\n",
       "<table border=\"1\" class=\"dataframe\">\n",
       "  <thead>\n",
       "    <tr style=\"text-align: right;\">\n",
       "      <th></th>\n",
       "      <th>category</th>\n",
       "      <th>text</th>\n",
       "    </tr>\n",
       "  </thead>\n",
       "  <tbody>\n",
       "    <tr>\n",
       "      <th>0</th>\n",
       "      <td>tech</td>\n",
       "      <td>tv future in the hands of viewers with home th...</td>\n",
       "    </tr>\n",
       "    <tr>\n",
       "      <th>1</th>\n",
       "      <td>business</td>\n",
       "      <td>worldcom boss  left books alone  former worldc...</td>\n",
       "    </tr>\n",
       "    <tr>\n",
       "      <th>2</th>\n",
       "      <td>sport</td>\n",
       "      <td>tigers wary of farrell  gamble  leicester say ...</td>\n",
       "    </tr>\n",
       "    <tr>\n",
       "      <th>3</th>\n",
       "      <td>sport</td>\n",
       "      <td>yeading face newcastle in fa cup premiership s...</td>\n",
       "    </tr>\n",
       "    <tr>\n",
       "      <th>4</th>\n",
       "      <td>entertainment</td>\n",
       "      <td>ocean s twelve raids box office ocean s twelve...</td>\n",
       "    </tr>\n",
       "    <tr>\n",
       "      <th>5</th>\n",
       "      <td>politics</td>\n",
       "      <td>howard hits back at mongrel jibe michael howar...</td>\n",
       "    </tr>\n",
       "    <tr>\n",
       "      <th>6</th>\n",
       "      <td>politics</td>\n",
       "      <td>blair prepares to name poll date tony blair is...</td>\n",
       "    </tr>\n",
       "    <tr>\n",
       "      <th>7</th>\n",
       "      <td>sport</td>\n",
       "      <td>henman hopes ended in dubai third seed tim hen...</td>\n",
       "    </tr>\n",
       "    <tr>\n",
       "      <th>8</th>\n",
       "      <td>sport</td>\n",
       "      <td>wilkinson fit to face edinburgh england captai...</td>\n",
       "    </tr>\n",
       "    <tr>\n",
       "      <th>9</th>\n",
       "      <td>entertainment</td>\n",
       "      <td>last star wars  not for children  the sixth an...</td>\n",
       "    </tr>\n",
       "  </tbody>\n",
       "</table>\n",
       "</div>"
      ],
      "text/plain": [
       "        category                                               text\n",
       "0           tech  tv future in the hands of viewers with home th...\n",
       "1       business  worldcom boss  left books alone  former worldc...\n",
       "2          sport  tigers wary of farrell  gamble  leicester say ...\n",
       "3          sport  yeading face newcastle in fa cup premiership s...\n",
       "4  entertainment  ocean s twelve raids box office ocean s twelve...\n",
       "5       politics  howard hits back at mongrel jibe michael howar...\n",
       "6       politics  blair prepares to name poll date tony blair is...\n",
       "7          sport  henman hopes ended in dubai third seed tim hen...\n",
       "8          sport  wilkinson fit to face edinburgh england captai...\n",
       "9  entertainment  last star wars  not for children  the sixth an..."
      ]
     },
     "execution_count": 2,
     "metadata": {},
     "output_type": "execute_result"
    }
   ],
   "source": [
    "import pandas as pd\n",
    "import seaborn as sns\n",
    "import torch\n",
    "import torch.nn as nn\n",
    "from transformers import BertModel,BertTokenizer\n",
    "import numpy as np\n",
    "import tqdm.notebook as tq\n",
    "from sklearn.metrics import confusion_matrix,classification_report,f1_score\n",
    "\n",
    "\n",
    "device = (\"cuda\" if torch.cuda.is_available() else \"cpu\")\n",
    "print(device)\n",
    "\n",
    "df = pd.read_csv(\"C:/nlp_projects/news/bbc-text-1.csv\",delimiter=',',nrows=20000)\n",
    "df.head(10)"
   ]
  },
  {
   "cell_type": "code",
   "execution_count": 3,
   "id": "2c9c5479-fb8f-458d-b78e-6ef5c4637d9d",
   "metadata": {},
   "outputs": [
    {
     "data": {
      "text/plain": [
       "dict_keys(['Text', 'input_ids', 'attention_mask', 'token_type_ids', 'targets'])"
      ]
     },
     "execution_count": 3,
     "metadata": {},
     "output_type": "execute_result"
    }
   ],
   "source": [
    "\n",
    "df.isnull().sum()\n",
    "df.duplicated().sum()\n",
    "df.drop_duplicates(inplace=True)\n",
    "df['category'].head(10)\n",
    "df['category'].value_counts()\n",
    "df['Text'] = df['text']\n",
    "df.drop('text',inplace=True,axis=1)\n",
    "\n",
    "df['sports'] = (df['category'] == \"sport\").astype(int)\n",
    "df['business'] = (df['category'] == \"business\").astype(int)\n",
    "df['politics'] = (df['category'] == \"politics\").astype(int)\n",
    "df['entertainment'] = (df['category'] == \"entertainment\").astype(int)\n",
    "df['tech'] = (df['category'] == \"tech\").astype(int)\n",
    "\n",
    "df.drop(\"category\",inplace=True,axis=1)\n",
    "\n",
    "\n",
    "learning_rate = 1e-5\n",
    "MAX_LEN = 256\n",
    "EPOCHS = 4\n",
    "\n",
    "MODEL_NAME = 'bert-base-uncased'\n",
    "tokenizer = BertTokenizer.from_pretrained(MODEL_NAME)\n",
    "\n",
    "\n",
    "\n",
    "\n",
    "class Custom_Dataset(torch.utils.data.Dataset):\n",
    "    def __init__(self,df,labels,max_len,tokenizer):\n",
    "        self.df = df\n",
    "        self.Text = list(df['Text'])\n",
    "        self.targets = self.df[labels].values\n",
    "        self.max_len = max_len\n",
    "        self.tokenizer=  tokenizer\n",
    "        \n",
    "        \n",
    "    def __len__(self):\n",
    "        return len(self.Text)\n",
    "    \n",
    "    \n",
    "    def __getitem__(self, idx):\n",
    "        Text = str(self.Text[idx])\n",
    "        Text = \" \".join(Text.split())\n",
    "        \n",
    "        encoder = self.tokenizer.encode_plus(\n",
    "            Text,\n",
    "            None,\n",
    "            max_length=self.max_len,\n",
    "            padding=\"max_length\",\n",
    "            truncation=True,\n",
    "            return_attention_mask=True,\n",
    "            return_token_type_ids=True,\n",
    "            add_special_tokens=True,\n",
    "            return_tensors='pt',\n",
    "            )\n",
    "        \n",
    "        return {\n",
    "            \"Text\":Text,\n",
    "            \"input_ids\":encoder['input_ids'].flatten(),\n",
    "            \"attention_mask\":encoder['attention_mask'].flatten(),\n",
    "            \"token_type_ids\":encoder['token_type_ids'].flatten(),\n",
    "            \"targets\":torch.FloatTensor(self.targets[idx])\n",
    "            }\n",
    "\n",
    "\n",
    "from sklearn.model_selection import train_test_split\n",
    "df_train,df_test = train_test_split(df,test_size=.20,random_state=42)\n",
    "df_val,df_test = train_test_split(df_test,test_size=.50,random_state=42)\n",
    "\n",
    "\n",
    "labels = list(df.columns)\n",
    "labels = labels[1:]\n",
    "\n",
    "train_dataset = Custom_Dataset(df_train,labels,max_len=MAX_LEN,tokenizer=tokenizer)\n",
    "test_dataset = Custom_Dataset(df_test, labels, max_len=MAX_LEN, tokenizer=tokenizer)\n",
    "val_dataset = Custom_Dataset(df_val, labels, max_len=MAX_LEN, tokenizer=tokenizer)\n",
    "\n",
    "TRAIN_BATCH_SIZE = 4\n",
    "TEST_BATCH_SIZE = 4\n",
    "VAL_BATCH_SIZE = 4\n",
    "\n",
    "\n",
    "train_dataloader = torch.utils.data.DataLoader(train_dataset,batch_size=TRAIN_BATCH_SIZE,num_workers=0)\n",
    "test_dataloader=  torch.utils.data.DataLoader(test_dataset,batch_size=TEST_BATCH_SIZE,num_workers=0)\n",
    "val_dataloader = torch.utils.data.DataLoader(val_dataset,batch_size=VAL_BATCH_SIZE,num_workers=0)\n",
    "\n",
    "data = next(iter(train_dataloader))\n",
    "data.keys()"
   ]
  },
  {
   "cell_type": "code",
   "execution_count": 4,
   "id": "ab721d2f-dd5e-4eba-afb2-d77fe2779918",
   "metadata": {},
   "outputs": [
    {
     "data": {
      "text/plain": [
       "BertClassifier(\n",
       "  (bert_model): BertModel(\n",
       "    (embeddings): BertEmbeddings(\n",
       "      (word_embeddings): Embedding(30522, 768, padding_idx=0)\n",
       "      (position_embeddings): Embedding(512, 768)\n",
       "      (token_type_embeddings): Embedding(2, 768)\n",
       "      (LayerNorm): LayerNorm((768,), eps=1e-12, elementwise_affine=True)\n",
       "      (dropout): Dropout(p=0.1, inplace=False)\n",
       "    )\n",
       "    (encoder): BertEncoder(\n",
       "      (layer): ModuleList(\n",
       "        (0-11): 12 x BertLayer(\n",
       "          (attention): BertAttention(\n",
       "            (self): BertSdpaSelfAttention(\n",
       "              (query): Linear(in_features=768, out_features=768, bias=True)\n",
       "              (key): Linear(in_features=768, out_features=768, bias=True)\n",
       "              (value): Linear(in_features=768, out_features=768, bias=True)\n",
       "              (dropout): Dropout(p=0.1, inplace=False)\n",
       "            )\n",
       "            (output): BertSelfOutput(\n",
       "              (dense): Linear(in_features=768, out_features=768, bias=True)\n",
       "              (LayerNorm): LayerNorm((768,), eps=1e-12, elementwise_affine=True)\n",
       "              (dropout): Dropout(p=0.1, inplace=False)\n",
       "            )\n",
       "          )\n",
       "          (intermediate): BertIntermediate(\n",
       "            (dense): Linear(in_features=768, out_features=3072, bias=True)\n",
       "            (intermediate_act_fn): GELUActivation()\n",
       "          )\n",
       "          (output): BertOutput(\n",
       "            (dense): Linear(in_features=3072, out_features=768, bias=True)\n",
       "            (LayerNorm): LayerNorm((768,), eps=1e-12, elementwise_affine=True)\n",
       "            (dropout): Dropout(p=0.1, inplace=False)\n",
       "          )\n",
       "        )\n",
       "      )\n",
       "    )\n",
       "    (pooler): BertPooler(\n",
       "      (dense): Linear(in_features=768, out_features=768, bias=True)\n",
       "      (activation): Tanh()\n",
       "    )\n",
       "  )\n",
       "  (dropout): Dropout(p=0.1, inplace=False)\n",
       "  (linear): Linear(in_features=768, out_features=5, bias=True)\n",
       ")"
      ]
     },
     "execution_count": 4,
     "metadata": {},
     "output_type": "execute_result"
    }
   ],
   "source": [
    "\n",
    "class BertClassifier(nn.Module):\n",
    "    def __init__(self):\n",
    "        super(BertClassifier, self).__init__()\n",
    "        self.bert_model = BertModel.from_pretrained(MODEL_NAME, return_dict=True)\n",
    "        self.dropout = torch.nn.Dropout(0.1)\n",
    "        self.linear = torch.nn.Linear(768, 5)\n",
    "\n",
    "    def forward(self, input_ids, attention_mask, token_type_ids):\n",
    "        output = self.bert_model(\n",
    "            input_ids, \n",
    "            attention_mask=attention_mask, \n",
    "            token_type_ids=token_type_ids\n",
    "        )\n",
    "        output_dropout = self.dropout(output.pooler_output)\n",
    "        output = self.linear(output_dropout)\n",
    "        return output\n",
    "\n",
    "\n",
    "    \n",
    "\n",
    "model = BertClassifier()\n",
    "model.to(device)"
   ]
  },
  {
   "cell_type": "code",
   "execution_count": 5,
   "id": "a3cb2c44-d0f7-4d49-ada5-aea3ac74cef5",
   "metadata": {},
   "outputs": [
    {
     "name": "stdout",
     "output_type": "stream",
     "text": [
      "Epoch 1/4\n"
     ]
    },
    {
     "data": {
      "application/vnd.jupyter.widget-view+json": {
       "model_id": "8fb7f69e34bf43428313ed81aa4efc52",
       "version_major": 2,
       "version_minor": 0
      },
      "text/plain": [
       "  0%|          | 0/425 [00:00<?, ?it/s]"
      ]
     },
     "metadata": {},
     "output_type": "display_data"
    },
    {
     "name": "stdout",
     "output_type": "stream",
     "text": [
      "train_loss=0.2463, val_loss=0.07 train_acc=0.87, val_acc=0.9718\n",
      "Epoch 2/4\n"
     ]
    },
    {
     "data": {
      "application/vnd.jupyter.widget-view+json": {
       "model_id": "1574f9d9c2dc482b9a4b6ec868643368",
       "version_major": 2,
       "version_minor": 0
      },
      "text/plain": [
       "  0%|          | 0/425 [00:00<?, ?it/s]"
      ]
     },
     "metadata": {},
     "output_type": "display_data"
    },
    {
     "name": "stdout",
     "output_type": "stream",
     "text": [
      "train_loss=0.0445, val_loss=0.05 train_acc=0.99, val_acc=0.9765\n",
      "Epoch 3/4\n"
     ]
    },
    {
     "data": {
      "application/vnd.jupyter.widget-view+json": {
       "model_id": "6f2635ad93794f14802f822e9fd56fbd",
       "version_major": 2,
       "version_minor": 0
      },
      "text/plain": [
       "  0%|          | 0/425 [00:00<?, ?it/s]"
      ]
     },
     "metadata": {},
     "output_type": "display_data"
    },
    {
     "name": "stdout",
     "output_type": "stream",
     "text": [
      "train_loss=0.0202, val_loss=0.05 train_acc=1.00, val_acc=0.9718\n",
      "Epoch 4/4\n"
     ]
    },
    {
     "data": {
      "application/vnd.jupyter.widget-view+json": {
       "model_id": "69a49f714d6045d7a89fe80d67a0c243",
       "version_major": 2,
       "version_minor": 0
      },
      "text/plain": [
       "  0%|          | 0/425 [00:00<?, ?it/s]"
      ]
     },
     "metadata": {},
     "output_type": "display_data"
    },
    {
     "name": "stdout",
     "output_type": "stream",
     "text": [
      "train_loss=0.0114, val_loss=0.04 train_acc=1.00, val_acc=0.9671\n"
     ]
    }
   ],
   "source": [
    "def loss_fn(outputs,targets):\n",
    "    return nn.BCEWithLogitsLoss()(outputs,targets)\n",
    "\n",
    "\n",
    "\n",
    "optimizer = torch.optim.AdamW(model.parameters(),lr=learning_rate)\n",
    "\n",
    "\n",
    "\n",
    "def train_model(train_dataloader, model, optimizer):\n",
    "    model.train()\n",
    "    losses = []\n",
    "    correct_predictions = 0\n",
    "    num_samples = 0\n",
    "    model.train()\n",
    "    loop = tq.tqdm(enumerate(train_dataloader), total=len(train_dataloader), leave=True)\n",
    "    for batch_idx, data in loop:\n",
    "        input_ids = data['input_ids'].to(device, dtype = torch.long)\n",
    "        attention_mask = data['attention_mask'].to(device, dtype = torch.long)\n",
    "        token_type_ids = data['token_type_ids'].to(device, dtype = torch.long)\n",
    "        targets = data['targets'].to(device, dtype = torch.float)\n",
    "\n",
    "\n",
    "        outputs = model(input_ids, attention_mask,token_type_ids)\n",
    "        loss = loss_fn(outputs, targets)\n",
    "        losses.append(loss.item())\n",
    "        _, preds = torch.max(outputs, dim=1)\n",
    "        _, targ = torch.max(targets, dim=1)\n",
    "        num_samples += len(targ)\n",
    "        correct_predictions += torch.sum(preds == targ)\n",
    "\n",
    "        optimizer.zero_grad()\n",
    "        loss.backward()\n",
    "        nn.utils.clip_grad_norm_(model.parameters(), max_norm=1.0)\n",
    "        optimizer.step()\n",
    "\n",
    "\n",
    "    return model, float(correct_predictions)/num_samples, np.mean(losses)\n",
    "\n",
    "\n",
    "\n",
    "def eval_model(val_dataloader, model, optimizer):\n",
    "    model.eval()\n",
    "    losses = []\n",
    "    correct_predictions = 0\n",
    "    num_samples = 0\n",
    "    model.eval()\n",
    "\n",
    "    with torch.no_grad():\n",
    "        for batch_idx, data in enumerate(val_dataloader, 0):\n",
    "            input_ids = data['input_ids'].to(device, dtype = torch.long)\n",
    "            attention_mask = data['attention_mask'].to(device, dtype = torch.long)\n",
    "            token_type_ids = data['token_type_ids'].to(device, dtype = torch.long)\n",
    "            targets = data['targets'].to(device, dtype = torch.float)\n",
    "            outputs = model(input_ids, attention_mask, token_type_ids)\n",
    "\n",
    "            loss = loss_fn(outputs, targets)\n",
    "            losses.append(loss.item())\n",
    "\n",
    "\n",
    "            _, preds = torch.max(outputs, dim=1)\n",
    "            _, targ = torch.max(targets, dim=1)\n",
    "            num_samples += len(targ)\n",
    "            correct_predictions += torch.sum(preds == targ)\n",
    "\n",
    "    return float(correct_predictions)/num_samples, np.mean(losses)\n",
    "\n",
    "\n",
    "\n",
    "\n",
    "\n",
    "\n",
    "for epoch in range(1, EPOCHS+1):\n",
    "    print(f'Epoch {epoch}/{EPOCHS}')\n",
    "    model, train_acc, train_loss = train_model(train_dataloader, model, optimizer)\n",
    "    val_acc, val_loss = eval_model(val_dataloader, model, optimizer)\n",
    "\n",
    "    print(f'train_loss={train_loss:.4f}, val_loss={val_loss:.2f} train_acc={train_acc:.2f}, val_acc={val_acc:.4f}')"
   ]
  },
  {
   "cell_type": "code",
   "execution_count": 6,
   "id": "4de076c5-1682-4e20-9ac4-8e54e60841a0",
   "metadata": {},
   "outputs": [
    {
     "name": "stdout",
     "output_type": "stream",
     "text": [
      "testing accuracy: 96.71%\n",
      "testing loss: 5.21\n"
     ]
    }
   ],
   "source": [
    "test_acc,test_loss = eval_model(test_dataloader, model, optimizer)\n",
    "print(f'testing accuracy: {test_acc*100:.2f}%')\n",
    "print(f'testing loss: {test_loss*100:.2f}')"
   ]
  },
  {
   "cell_type": "code",
   "execution_count": 7,
   "id": "03abc65d-ccbb-4146-93f4-70ce7d0fac89",
   "metadata": {},
   "outputs": [
    {
     "name": "stdout",
     "output_type": "stream",
     "text": [
      "               precision    recall  f1-score   support\n",
      "\n",
      "       sports       1.00      1.00      1.00        49\n",
      "     business       0.95      0.95      0.95        56\n",
      "     politics       0.95      0.98      0.96        42\n",
      "entertainment       1.00      0.97      0.98        30\n",
      "         tech       0.94      0.94      0.94        36\n",
      "\n",
      "     accuracy                           0.97       213\n",
      "    macro avg       0.97      0.97      0.97       213\n",
      " weighted avg       0.97      0.97      0.97       213\n",
      "\n",
      "0.9671361502347418\n"
     ]
    }
   ],
   "source": [
    "def get_predictions(model, dataloader):\n",
    "    model.eval()\n",
    "    \n",
    "    Texts = []\n",
    "    predictions = []\n",
    "    prediction_probs = []\n",
    "    target_values = []\n",
    "\n",
    "    with torch.no_grad():\n",
    "      for data in dataloader:\n",
    "        Text = data[\"Text\"]\n",
    "        input_ids = data[\"input_ids\"].to(device, dtype = torch.long)\n",
    "        attention_mask = data[\"attention_mask\"].to(device, dtype = torch.long)\n",
    "        token_type_ids = data['token_type_ids'].to(device, dtype = torch.long)\n",
    "        targets = data[\"targets\"].to(device, dtype = torch.float)\n",
    "\n",
    "        outputs = model(input_ids, attention_mask, token_type_ids)\n",
    "        _, preds = torch.max(outputs, dim=1)\n",
    "        _, targ = torch.max(targets, dim=1)\n",
    "\n",
    "        Texts.extend(Text)\n",
    "        predictions.extend(preds)\n",
    "        prediction_probs.extend(outputs)\n",
    "        target_values.extend(targ)\n",
    "        \n",
    "    predictions = torch.stack(predictions).cpu()\n",
    "    prediction_probs = torch.stack(prediction_probs).cpu()\n",
    "    target_values = torch.stack(target_values).cpu()\n",
    "    \n",
    "    return Texts, predictions, prediction_probs, target_values\n",
    "     \n",
    "\n",
    "\n",
    "Texts, predictions, prediction_probs, target_values = get_predictions(model, test_dataloader)\n",
    "\n",
    "\n",
    "print(classification_report(predictions,target_values, target_names=labels))\n",
    "\n",
    "print(f1_score(predictions, target_values,average='micro'))"
   ]
  },
  {
   "cell_type": "code",
   "execution_count": 8,
   "id": "925fd6bb-4c1d-49c0-aa00-ad585a3c10e7",
   "metadata": {},
   "outputs": [
    {
     "data": {
      "image/png": "[encoded data removed]",
      "text/plain": [
       "<Figure size 1000x600 with 2 Axes>"
      ]
     },
     "metadata": {},
     "output_type": "display_data"
    }
   ],
   "source": [
    "import matplotlib.pyplot as plt\n",
    "\n",
    "def plt_confusion_matrix(predictions,target_values):\n",
    "    cm = confusion_matrix(predictions,target_values)\n",
    "    sns.heatmap(cm, fmt='d',annot=True,cmap=\"Blues\",xticklabels=[\"sports\",\"business\",\"politics\",\"entertainment\",\"tech\"],yticklabels=[\"sports\",\"business\",\"politics\",\"entertainment\",\"tech\"])\n",
    "\n",
    "\n",
    "plt.figure(figsize=(10,6))\n",
    "plt_confusion_matrix(predictions, target_values)"
   ]
  },
  {
   "cell_type": "code",
   "execution_count": null,
   "id": "484b6e4d-a18e-4e11-9586-cd9b21dd974e",
   "metadata": {},
   "outputs": [],
   "source": []
  }
 ],
 "metadata": {
  "kernelspec": {
   "display_name": "Python 3 (ipykernel)",
   "language": "python",
   "name": "python3"
  },
  "language_info": {
   "codemirror_mode": {
    "name": "ipython",
    "version": 3
   },
   "file_extension": ".py",
   "mimetype": "text/x-python",
   "name": "python",
   "nbconvert_exporter": "python",
   "pygments_lexer": "ipython3",
   "version": "3.11.11"
  }
 },
 "nbformat": 4,
 "nbformat_minor": 5
}
